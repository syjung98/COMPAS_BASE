{
 "cells": [
  {
   "cell_type": "code",
   "execution_count": 9,
   "metadata": {},
   "outputs": [],
   "source": [
    "#12/24 GeoSeries 추가\n",
    "import pandas as pd\n",
    "import folium\n",
    "import json\n",
    "import geopandas as gpd\n",
    "from geojson import Feature, FeatureCollection, Point, dump\n",
    "# from geopandas import GeoSeries\n",
    "from shapely.geometry import Point\n",
    "import matplotlib.pyplot as plt\n",
    "import pydeck as pdk\n",
    "import shapely\n",
    "import numpy as np\n",
    "plt.rc(\"font\", family = \"Malgun Gothic\")\n",
    "%matplotlib inline\n",
    "import warnings\n",
    "warnings.filterwarnings(action='ignore') \n",
    "from sklearn.linear_model import LinearRegression\n",
    "from sklearn import linear_model"
   ]
  },
  {
   "cell_type": "code",
   "execution_count": 5,
   "metadata": {},
   "outputs": [],
   "source": [
    "# import geopandas as gpd\n",
    "# from geopandas import GeoSeries"
   ]
  },
  {
   "cell_type": "code",
   "execution_count": 10,
   "metadata": {},
   "outputs": [
    {
     "ename": "AttributeError",
     "evalue": "module 'geopandas' has no attribute 'read_file'",
     "output_type": "error",
     "traceback": [
      "\u001b[1;31m---------------------------------------------------------------------------\u001b[0m",
      "\u001b[1;31mAttributeError\u001b[0m                            Traceback (most recent call last)",
      "\u001b[1;32m<ipython-input-10-865fc9fc0de6>\u001b[0m in \u001b[0;36m<module>\u001b[1;34m\u001b[0m\n\u001b[1;32m----> 1\u001b[1;33m \u001b[0mdf_osan_grid\u001b[0m\u001b[1;33m=\u001b[0m\u001b[0mgpd\u001b[0m\u001b[1;33m.\u001b[0m\u001b[0mread_file\u001b[0m\u001b[1;33m(\u001b[0m\u001b[1;34m'df_osan_grid.geojson'\u001b[0m\u001b[1;33m)\u001b[0m\u001b[1;33m\u001b[0m\u001b[1;33m\u001b[0m\u001b[0m\n\u001b[0m\u001b[0;32m      2\u001b[0m \u001b[0mdf_road_info\u001b[0m\u001b[1;33m=\u001b[0m\u001b[0mgpd\u001b[0m\u001b[1;33m.\u001b[0m\u001b[0mread_file\u001b[0m\u001b[1;33m(\u001b[0m\u001b[1;34m'df_road_info.geojson'\u001b[0m\u001b[1;33m)\u001b[0m\u001b[1;33m\u001b[0m\u001b[1;33m\u001b[0m\u001b[0m\n\u001b[0;32m      3\u001b[0m \u001b[1;33m\u001b[0m\u001b[0m\n\u001b[0;32m      4\u001b[0m \u001b[0mdf1_parking\u001b[0m\u001b[1;33m=\u001b[0m\u001b[0mgpd\u001b[0m\u001b[1;33m.\u001b[0m\u001b[0mread_file\u001b[0m\u001b[1;33m(\u001b[0m\u001b[1;34m'df1_parking.geojson'\u001b[0m\u001b[1;33m)\u001b[0m\u001b[1;33m\u001b[0m\u001b[1;33m\u001b[0m\u001b[0m\n\u001b[0;32m      5\u001b[0m \u001b[0mdf2_grid_accident\u001b[0m\u001b[1;33m=\u001b[0m\u001b[0mgpd\u001b[0m\u001b[1;33m.\u001b[0m\u001b[0mread_file\u001b[0m\u001b[1;33m(\u001b[0m\u001b[1;34m'df2_grid_accident.geojson'\u001b[0m\u001b[1;33m)\u001b[0m\u001b[1;33m\u001b[0m\u001b[1;33m\u001b[0m\u001b[0m\n",
      "\u001b[1;31mAttributeError\u001b[0m: module 'geopandas' has no attribute 'read_file'"
     ]
    }
   ],
   "source": [
    "df_osan_grid=gpd.read_file('df_osan_grid.geojson')\n",
    "df_road_info=gpd.read_file('df_road_info.geojson')\n",
    "\n",
    "df1_parking=gpd.read_file('df1_parking.geojson')\n",
    "df2_grid_accident=gpd.read_file('df2_grid_accident.geojson')\n",
    "df4_pop=gpd.read_file('df4_pop.geojson')\n",
    "df5_junior_pop=gpd.read_file('df5_junior_pop.geojson')\n",
    "df6_product_pop=gpd.read_file('df6_product_pop.geojson')\n",
    "df7_senior_pop=gpd.read_file('df7_senior_pop.geojson')\n",
    "df8_floating_pop=gpd.read_file('df8_floating_pop.geojson')\n",
    "df9_protection_area=gpd.read_file('df9_protection_area.geojson')\n",
    "df10_school=gpd.read_file('df10_school.geojson')\n",
    "df11_elementary_district=gpd.read_file('df11_elementary_district.geojson')\n",
    "df12_middle_district=gpd.read_file('df12_middle_district.geojson')\n",
    "df13_kinder=gpd.read_file('df13_kinder.geojson')\n",
    "df15_traffic_cctv=gpd.read_file('df15_traffic_cctv.geojson')\n",
    "df16_road_sign=gpd.read_file('df16_road_sign.geojson')\n",
    "df17_crosswalk=gpd.read_file('df17_crosswalk.geojson')\n",
    "df18_speed_bump=gpd.read_file('df18_speed_bump.geojson')\n",
    "df19_traffic_light=gpd.read_file('df19_traffic_light.geojson')\n",
    "df20_cctv=gpd.read_file('df20_cctv.geojson')\n",
    "df21_sidewalk=gpd.read_file('df21_sidewalk.geojson')\n",
    "df22_bus_stop=gpd.read_file('df22_bus_stop.geojson')\n",
    "df23_road=gpd.read_file('df23_road.geojson')\n",
    "df24_traffic=pd.read_csv('df24_traffic.csv')\n",
    "df25_traffic_frequency=pd.read_csv('df25_traffic_frequency.csv')\n",
    "df26_traffic_time=pd.read_csv('df26_traffic_time.csv')\n",
    "df27_building=gpd.read_file('df27_building.geojson')\n",
    "df28_grid_building=gpd.read_file('df28_grid_building.geojson')\n",
    "df29_sports=gpd.read_file('df29_sports.geojson')\n",
    "df30_academy=gpd.read_file('df30_academy.geojson')\n",
    "\n",
    "grid_info = gpd.read_file('grid_info.geojson')"
   ]
  },
  {
   "cell_type": "code",
   "execution_count": null,
   "metadata": {},
   "outputs": [],
   "source": []
  }
 ],
 "metadata": {
  "kernelspec": {
   "display_name": "Python 3",
   "language": "python",
   "name": "python3"
  }
 },
 "nbformat": 4,
 "nbformat_minor": 2
}
